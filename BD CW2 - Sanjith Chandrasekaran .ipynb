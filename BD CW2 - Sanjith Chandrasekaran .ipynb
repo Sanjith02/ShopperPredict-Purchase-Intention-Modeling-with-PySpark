{
 "cells": [
  {
   "cell_type": "markdown",
   "metadata": {},
   "source": [
    "# Big Data Analytics CW2\n",
    "\n",
    "## Author        : Sanjith Chandrasekaran\n",
    "\n",
    "## Student id    : 33788702\n"
   ]
  },
  {
   "cell_type": "markdown",
   "metadata": {},
   "source": [
    "<H3> Component 1: Project Proposal </H3>\n",
    "\n",
    "This project proposal aims to construct a predictive model to accurately determine whether an online visitor will make a purchase or not, utilizing the Online Shoppers Purchasing Intention Dataset from the UCI Machine Learning Repository. Employing PySpark, a distributed data processing and machine learning framework, we will utilize its DataFrame API for efficient data manipulation and MLlib library for building and training machine learning models. Leveraging various classification algorithms available in PySpark MLlib, including Logistic Regression, Decision Trees, Random Forest, and Multilayer Perceptron, we seek to develop predictive models. Evaluation of model performance will be conducted using PySpark ML evaluators such as MulticlassClassificationEvaluator and BinaryClassificationEvaluator, focusing on metrics like accuracy, F1 score, and area under the ROC curve. Addressing challenges such as class imbalance in the dataset will be crucial to ensure the model's efficacy in real-world scenarios."
   ]
  },
  {
   "cell_type": "markdown",
   "metadata": {},
   "source": [
    "### Dataset\n",
    "\n",
    "Link to the Dataset: https://archive.ics.uci.edu/dataset/468/online+shoppers+purchasing+intention+dataset\n",
    "\n",
    "Overview if the Dataset: The Online Shoppers Purchasing Intention Dataset contains feature vectors from 12,330 sessions, donated on August 30, 2018. It is primarily used for classification and clustering tasks in the business domain. The dataset consists of both positive and negative class samples, with 84.5% (10,422) representing sessions that did not end with a purchase, and the remaining 15.5% (1,908) representing sessions that ended with a purchase. The dataset is multivariate, with 17 features of 10 numerical and 8 categorical.\n",
    "\n",
    "\n",
    "HDFS path to the dataset - \"hdfs://dsm-master:9000/user/schan007/online_shoppers_intention.csv\"\n",
    "\n",
    "\n",
    "* Administrative: Represents the number of administrative pages visited by the user.\n",
    "* Administrative_Duration: Indicates the total time spent by the user on administrative pages.\n",
    "* Informational: Denotes the number of informational pages visited by the user.\n",
    "* Informational_Duration: Represents the total time spent by the user on informational pages.\n",
    "* ProductRelated: Indicates the number of product-related pages visited by the user.\n",
    "* ProductRelated_Duration: Represents the total time spent by the user on product-related pages.\n",
    "* BounceRates: Reflects the bounce rate for the website, i.e., the percentage of visitors who leave the site after viewing only one page.\n",
    "* ExitRates: Indicates the exit rate for the website, i.e., the percentage of visitors who leave the site from a particular page.\n",
    "* PageValues: Represents the average value of a page that a user visited before completing an e-commerce transaction.\n",
    "* SpecialDay: Indicates the closeness of the site visiting time to a specific special day, such as holidays or promotions.\n",
    "* Month: Represents the month of the year when the session occurred.\n",
    "* OperatingSystems: Denotes the operating system used by the visitor.\n",
    "* Browser: Represents the browser used by the visitor.\n",
    "* Region: Indicates the geographical region of the visitor.\n",
    "* TrafficType: Represents the type of traffic through which the visitor arrived at the website.\n",
    "* VisitorType: Indicates whether the visitor is a (Returning visitor) or a (New visitor).\n",
    "* Weekend: A binary feature indicating whether the visit occurred on a weekend (TRUE) or not (FALSE).\n",
    "* Revenue: The target variable, indicating whether the visitor made a purchase (TRUE) or not (FALSE)."
   ]
  },
  {
   "cell_type": "markdown",
   "metadata": {},
   "source": [
    "## Component 2: Project implementation"
   ]
  },
  {
   "cell_type": "markdown",
   "metadata": {},
   "source": [
    "## 1. Project Setup and Data Loading\n",
    "\n",
    "we establish a SparkSession named 'online shopping' to facilitate our data processing tasks. We then specify the HDFS path to the CSV file containing our dataset, which is the Online Shoppers Intention Dataset. Finally, using the spark.read.csv function, we read the CSV file into a DataFrame named 'online', enabling us to analyze and manipulate the data using PySpark."
   ]
  },
  {
   "cell_type": "code",
   "execution_count": 290,
   "metadata": {},
   "outputs": [],
   "source": [
    "from pyspark.sql import SparkSession\n",
    "\n",
    "# Create a new SparkSession\n",
    "spark = SparkSession.builder.appName('online shopping').getOrCreate()\n",
    "\n",
    "# Specify the HDFS path to the CSV file\n",
    "hdfs_path = \"hdfs://dsm-master:9000/user/schan007/online_shoppers_intention.csv\"\n",
    "\n",
    "# Read the CSV file into a DataFrame\n",
    "online = spark.read.csv(hdfs_path, header=True, inferSchema=True)"
   ]
  },
  {
   "cell_type": "markdown",
   "metadata": {},
   "source": [
    "we define a list of columns representing our features (X) and another column for our target variable (y)"
   ]
  },
  {
   "cell_type": "code",
   "execution_count": 291,
   "metadata": {},
   "outputs": [
    {
     "name": "stdout",
     "output_type": "stream",
     "text": [
      "+--------------+-----------------------+-------------+----------------------+--------------+-----------------------+-----------+---------+----------+----------+-----+----------------+-------+------+-----------+-----------------+-------+\n",
      "|Administrative|Administrative_Duration|Informational|Informational_Duration|ProductRelated|ProductRelated_Duration|BounceRates|ExitRates|PageValues|SpecialDay|Month|OperatingSystems|Browser|Region|TrafficType|      VisitorType|Weekend|\n",
      "+--------------+-----------------------+-------------+----------------------+--------------+-----------------------+-----------+---------+----------+----------+-----+----------------+-------+------+-----------+-----------------+-------+\n",
      "|             0|                    0.0|            0|                   0.0|             1|                    0.0|        0.2|      0.2|       0.0|       0.0|  Feb|               1|      1|     1|          1|Returning_Visitor|  false|\n",
      "|             0|                    0.0|            0|                   0.0|             2|                   64.0|        0.0|      0.1|       0.0|       0.0|  Feb|               2|      2|     1|          2|Returning_Visitor|  false|\n",
      "|             0|                    0.0|            0|                   0.0|             1|                    0.0|        0.2|      0.2|       0.0|       0.0|  Feb|               4|      1|     9|          3|Returning_Visitor|  false|\n",
      "|             0|                    0.0|            0|                   0.0|             2|            2.666666667|       0.05|     0.14|       0.0|       0.0|  Feb|               3|      2|     2|          4|Returning_Visitor|  false|\n",
      "|             0|                    0.0|            0|                   0.0|            10|                  627.5|       0.02|     0.05|       0.0|       0.0|  Feb|               3|      3|     1|          4|Returning_Visitor|   true|\n",
      "+--------------+-----------------------+-------------+----------------------+--------------+-----------------------+-----------+---------+----------+----------+-----+----------------+-------+------+-----------+-----------------+-------+\n",
      "only showing top 5 rows\n",
      "\n",
      "+-------+\n",
      "|Revenue|\n",
      "+-------+\n",
      "|  false|\n",
      "|  false|\n",
      "|  false|\n",
      "|  false|\n",
      "|  false|\n",
      "+-------+\n",
      "only showing top 5 rows\n",
      "\n"
     ]
    }
   ],
   "source": [
    "from pyspark.sql import functions as F\n",
    "\n",
    "# Assuming 'online' is your DataFrame containing the dataset\n",
    "X_columns = ['Administrative', 'Administrative_Duration', 'Informational', \n",
    "             'Informational_Duration', 'ProductRelated', 'ProductRelated_Duration', \n",
    "             'BounceRates', 'ExitRates', 'PageValues', 'SpecialDay', 'Month', \n",
    "             'OperatingSystems', 'Browser', 'Region', 'TrafficType', 'VisitorType', \n",
    "             'Weekend']\n",
    "\n",
    "# Selecting features (X) columns\n",
    "X = online.select(X_columns)\n",
    "\n",
    "# Selecting target variable (y) column\n",
    "y = online.select('Revenue')\n",
    "\n",
    "# Show sample data for features (X)\n",
    "X.show(5)\n",
    "\n",
    "# Show sample data for target variable (y)\n",
    "y.show(5)\n"
   ]
  },
  {
   "cell_type": "markdown",
   "metadata": {},
   "source": [
    "We are checking the shape of X and y,"
   ]
  },
  {
   "cell_type": "code",
   "execution_count": 263,
   "metadata": {},
   "outputs": [
    {
     "name": "stdout",
     "output_type": "stream",
     "text": [
      "Shape of X (features): (12330, 17)\n",
      "Shape of y (target): (12330, 1)\n"
     ]
    }
   ],
   "source": [
    "# Assuming you have already defined X and y DataFrames\n",
    "# Get the number of rows in X (features DataFrame)\n",
    "num_rows_X = X.count()\n",
    "\n",
    "# Get the number of columns in X (features DataFrame)\n",
    "num_columns_X = len(X.columns)\n",
    "\n",
    "# Print the shape of X\n",
    "print(\"Shape of X (features): ({}, {})\".format(num_rows_X, num_columns_X))\n",
    "\n",
    "# Get the number of rows in y (target variable DataFrame)\n",
    "num_rows_y = y.count()\n",
    "\n",
    "# Get the number of columns in y (target variable DataFrame)\n",
    "num_columns_y = len(y.columns)\n",
    "\n",
    "# Print the shape of y\n",
    "print(\"Shape of y (target): ({}, {})\".format(num_rows_y, num_columns_y))\n",
    "\n"
   ]
  },
  {
   "cell_type": "markdown",
   "metadata": {},
   "source": [
    "Displaying each column name and its corresponding data type"
   ]
  },
  {
   "cell_type": "code",
   "execution_count": 264,
   "metadata": {},
   "outputs": [
    {
     "name": "stdout",
     "output_type": "stream",
     "text": [
      "Schema of X (features):\n",
      "root\n",
      " |-- Administrative: integer (nullable = true)\n",
      " |-- Administrative_Duration: double (nullable = true)\n",
      " |-- Informational: integer (nullable = true)\n",
      " |-- Informational_Duration: double (nullable = true)\n",
      " |-- ProductRelated: integer (nullable = true)\n",
      " |-- ProductRelated_Duration: double (nullable = true)\n",
      " |-- BounceRates: double (nullable = true)\n",
      " |-- ExitRates: double (nullable = true)\n",
      " |-- PageValues: double (nullable = true)\n",
      " |-- SpecialDay: double (nullable = true)\n",
      " |-- Month: string (nullable = true)\n",
      " |-- OperatingSystems: integer (nullable = true)\n",
      " |-- Browser: integer (nullable = true)\n",
      " |-- Region: integer (nullable = true)\n",
      " |-- TrafficType: integer (nullable = true)\n",
      " |-- VisitorType: string (nullable = true)\n",
      " |-- Weekend: boolean (nullable = true)\n",
      "\n",
      "Schema of y (target):\n",
      "root\n",
      " |-- Revenue: boolean (nullable = true)\n",
      "\n"
     ]
    }
   ],
   "source": [
    "# Assuming you have already defined X (features DataFrame) and y (target variable DataFrame)\n",
    "# Print schema of X (features DataFrame)\n",
    "print(\"Schema of X (features):\")\n",
    "X.printSchema()\n",
    "\n",
    "# Print schema of y (target variable DataFrame)\n",
    "print(\"Schema of y (target):\")\n",
    "y.printSchema()\n"
   ]
  },
  {
   "cell_type": "markdown",
   "metadata": {},
   "source": [
    "Things to be fixed in Data cleaning:\n",
    "    \n",
    "* Checking for missing values\n",
    "* Weekend (Boolean) - Needs to be converted to string first\n",
    "* Revenue (Boolean) - Needs to be converted to string first\n",
    "* Next, Revenue - convert to integer\n",
    "* Month - Convert it to Categorical \n",
    "* VisitorType - Convert it to Categorical\n",
    "* Weekend - Convert it to Categorical"
   ]
  },
  {
   "cell_type": "markdown",
   "metadata": {},
   "source": [
    "## 2. Data Cleaning"
   ]
  },
  {
   "cell_type": "markdown",
   "metadata": {},
   "source": [
    "### 2.1 Checking for missing values"
   ]
  },
  {
   "cell_type": "code",
   "execution_count": 287,
   "metadata": {},
   "outputs": [
    {
     "name": "stdout",
     "output_type": "stream",
     "text": [
      "Missing values in X:\n",
      "Administrative: 0\n",
      "Administrative_Duration: 0\n",
      "Informational: 0\n",
      "Informational_Duration: 0\n",
      "ProductRelated: 0\n",
      "ProductRelated_Duration: 0\n",
      "BounceRates: 0\n",
      "ExitRates: 0\n",
      "PageValues: 0\n",
      "SpecialDay: 0\n",
      "Month: 0\n",
      "OperatingSystems: 0\n",
      "Browser: 0\n",
      "Region: 0\n",
      "TrafficType: 0\n",
      "VisitorType: 0\n",
      "Weekend: 0\n"
     ]
    }
   ],
   "source": [
    "from pyspark.sql.functions import col\n",
    "\n",
    "# Create a dictionary to store column names and their respective missing value counts\n",
    "missing_counts_X = {}\n",
    "\n",
    "# Loop through each column in X and calculate the count of missing values\n",
    "for c in X.columns:\n",
    "    missing_counts_X[c] = X.filter(col(c).isNull()).count()\n",
    "\n",
    "# Print the count of missing values for each column in X\n",
    "print(\"Missing values in X:\")\n",
    "for column, count in missing_counts_X.items():\n",
    "    print(f\"{column}: {count}\")\n"
   ]
  },
  {
   "cell_type": "code",
   "execution_count": 266,
   "metadata": {},
   "outputs": [
    {
     "name": "stdout",
     "output_type": "stream",
     "text": [
      "Missing values in y:\n",
      "Revenue: 0\n"
     ]
    }
   ],
   "source": [
    "from pyspark.sql.functions import col\n",
    "\n",
    "# Create a dictionary to store column names and their respective missing value counts\n",
    "missing_counts_y = {}\n",
    "\n",
    "# Loop through each column in y and calculate the count of missing values\n",
    "for c in y.columns:\n",
    "    missing_counts_y[c] = y.filter(col(c).isNull()).count()\n",
    "\n",
    "# Print the count of missing values for each column in y\n",
    "print(\"Missing values in y:\")\n",
    "for column, count in missing_counts_y.items():\n",
    "    print(f\"{column}: {count}\")\n"
   ]
  },
  {
   "cell_type": "markdown",
   "metadata": {},
   "source": [
    "There are no missing values in the dataset.\n",
    "\n",
    "\n",
    "Here is the revised list of tasks for the data cleaning phase:\n",
    "\n",
    "* Convert 'Weekend' (Boolean) to string first.\n",
    "* Convert 'Revenue' (Boolean) to string first.\n",
    "* Then, convert 'Revenue' to integer.\n",
    "* Convert 'Month' to Categorical.\n",
    "* Convert 'VisitorType' to Categorical.\n",
    "* Convert 'Weekend' to Categorical."
   ]
  },
  {
   "cell_type": "code",
   "execution_count": 272,
   "metadata": {},
   "outputs": [],
   "source": [
    "from pyspark.ml import Pipeline\n",
    "from pyspark.ml.feature import StringIndexer, OneHotEncoderEstimator\n",
    "from pyspark.sql.functions import when\n",
    "from pyspark.sql.types import IntegerType\n",
    "\n",
    "# Convert boolean columns to string\n",
    "online = online.withColumn(\"Weekend\", col(\"Weekend\").cast(\"string\"))\n",
    "online = online.withColumn(\"Revenue\", col(\"Revenue\").cast(\"string\"))\n",
    "\n",
    "# Initialize StringIndexer\n",
    "string_indexer = StringIndexer(inputCol=\"Revenue\", outputCol=\"Revenue_int\")\n",
    "\n",
    "# Fit and transform the data\n",
    "online = string_indexer.fit(online).transform(online)\n",
    "\n",
    "# Define categorical columns to be converted\n",
    "categorical_cols = ['Month', 'VisitorType', 'Weekend',]\n",
    "\n",
    "# Define indexers to perform string indexing\n",
    "indexers = [StringIndexer(inputCol=col, outputCol=col+\"_index\", handleInvalid=\"skip\") for col in categorical_cols]\n",
    "\n",
    "# Define encoders to perform one-hot encoding\n",
    "encoders = [OneHotEncoderEstimator(inputCols=[col+\"_index\"], outputCols=[col+\"_encoded\"]) for col in categorical_cols]\n",
    "\n",
    "# Define pipeline\n",
    "pipeline = Pipeline(stages=indexers + encoders)\n",
    "\n",
    "# Fit and transform the data\n",
    "model = pipeline.fit(online)\n",
    "online_data = model.transform(online)"
   ]
  },
  {
   "cell_type": "code",
   "execution_count": 285,
   "metadata": {},
   "outputs": [
    {
     "data": {
      "text/plain": [
       "DataFrame[Administrative: int, Administrative_Duration: double, Informational: int, Informational_Duration: double, ProductRelated: int, ProductRelated_Duration: double, BounceRates: double, ExitRates: double, PageValues: double, SpecialDay: double, OperatingSystems: int, Browser: int, Region: int, TrafficType: int, Revenue_int: double, Month_encoded: vector, VisitorType_encoded: vector, Weekend_encoded: vector]"
      ]
     },
     "execution_count": 285,
     "metadata": {},
     "output_type": "execute_result"
    }
   ],
   "source": [
    "online_data"
   ]
  },
  {
   "cell_type": "markdown",
   "metadata": {},
   "source": [
    "Dropping the columns because the newly created columns using one-hot encoding are now available"
   ]
  },
  {
   "cell_type": "code",
   "execution_count": 274,
   "metadata": {},
   "outputs": [
    {
     "name": "stdout",
     "output_type": "stream",
     "text": [
      "root\n",
      " |-- Administrative: integer (nullable = true)\n",
      " |-- Administrative_Duration: double (nullable = true)\n",
      " |-- Informational: integer (nullable = true)\n",
      " |-- Informational_Duration: double (nullable = true)\n",
      " |-- ProductRelated: integer (nullable = true)\n",
      " |-- ProductRelated_Duration: double (nullable = true)\n",
      " |-- BounceRates: double (nullable = true)\n",
      " |-- ExitRates: double (nullable = true)\n",
      " |-- PageValues: double (nullable = true)\n",
      " |-- SpecialDay: double (nullable = true)\n",
      " |-- OperatingSystems: integer (nullable = true)\n",
      " |-- Browser: integer (nullable = true)\n",
      " |-- Region: integer (nullable = true)\n",
      " |-- TrafficType: integer (nullable = true)\n",
      " |-- Revenue_int: double (nullable = false)\n",
      " |-- Month_encoded: vector (nullable = true)\n",
      " |-- VisitorType_encoded: vector (nullable = true)\n",
      " |-- Weekend_encoded: vector (nullable = true)\n",
      "\n"
     ]
    }
   ],
   "source": [
    "columns_to_drop = [\"Month\", \"Month_index\", \"Weekend\", \"Weekend_index\",\n",
    "                   \"Revenue\", \"VisitorType\", \"VisitorType_index\"]\n",
    "online_data = online_data.drop(*columns_to_drop)\n",
    "\n",
    "# Show the schema of the cleaned DataFrame\n",
    "online_data.printSchema()"
   ]
  },
  {
   "cell_type": "markdown",
   "metadata": {},
   "source": [
    "## 3. Exploratory Data Analysis"
   ]
  },
  {
   "cell_type": "markdown",
   "metadata": {},
   "source": [
    "### 3.1 Revenue Distribution: Proportions of Purchase and Non-Purchase Sessions"
   ]
  },
  {
   "cell_type": "code",
   "execution_count": 267,
   "metadata": {},
   "outputs": [
    {
     "data": {
      "image/png": "[encoded data removed]",
      "text/plain": [
       "<Figure size 432x432 with 1 Axes>"
      ]
     },
     "metadata": {},
     "output_type": "display_data"
    }
   ],
   "source": [
    "import matplotlib.pyplot as plt\n",
    "import seaborn as sns\n",
    "\n",
    "# Group by Revenue and count occurrences\n",
    "revenue_counts = online.groupBy('Revenue').count().orderBy('Revenue')\n",
    "\n",
    "# Convert Spark DataFrame to Pandas DataFrame for visualization\n",
    "revenue_counts_pandas = revenue_counts.toPandas()\n",
    "\n",
    "# Plot pie chart\n",
    "plt.figure(figsize=(6, 6))\n",
    "plt.pie(revenue_counts_pandas['count'], labels=revenue_counts_pandas['Revenue'], autopct='%1.1f%%', colors=['skyblue', 'lightcoral'])\n",
    "plt.title('Distribution of Revenue')\n",
    "plt.show()\n"
   ]
  },
  {
   "cell_type": "markdown",
   "metadata": {},
   "source": [
    "The pie chart clearly depicts that the proportion of visitors who didn't make a purchase is higher."
   ]
  },
  {
   "cell_type": "markdown",
   "metadata": {},
   "source": [
    "### 3.2 Monthly Occurrence Analysis: Distribution of Sessions Across Months\n",
    "\n"
   ]
  },
  {
   "cell_type": "code",
   "execution_count": 268,
   "metadata": {},
   "outputs": [
    {
     "data": {
      "image/png": "[encoded data removed]",
      "text/plain": [
       "<Figure size 720x432 with 1 Axes>"
      ]
     },
     "metadata": {
      "needs_background": "light"
     },
     "output_type": "display_data"
    }
   ],
   "source": [
    "# Group by Month and count occurrences\n",
    "month_counts = online.groupBy('Month').count().orderBy('Month')\n",
    "\n",
    "# Convert Spark DataFrame to Pandas DataFrame for visualization\n",
    "month_counts_pandas = month_counts.toPandas()\n",
    "\n",
    "# Plot bar chart\n",
    "plt.figure(figsize=(10, 6))\n",
    "sns.barplot(x='Month', y='count', data=month_counts_pandas, palette='viridis')\n",
    "plt.title('Count of Occurrences by Month')\n",
    "plt.xlabel('Month')\n",
    "plt.ylabel('Count')\n",
    "plt.xticks(rotation=45)\n",
    "plt.show()\n"
   ]
  },
  {
   "cell_type": "markdown",
   "metadata": {},
   "source": [
    "The bar chart shows that May has the highest number of visitors."
   ]
  },
  {
   "cell_type": "markdown",
   "metadata": {},
   "source": [
    "### 3.3 Multivariate Bar Chart: VisitorType Distribution Across Months"
   ]
  },
  {
   "cell_type": "code",
   "execution_count": 269,
   "metadata": {},
   "outputs": [
    {
     "data": {
      "image/png": "[encoded data removed]",
      "text/plain": [
       "<Figure size 864x432 with 1 Axes>"
      ]
     },
     "metadata": {
      "needs_background": "light"
     },
     "output_type": "display_data"
    }
   ],
   "source": [
    "from pyspark.sql import SparkSession\n",
    "import matplotlib.pyplot as plt\n",
    "\n",
    "# Assuming 'online' is your DataFrame containing the dataset\n",
    "\n",
    "# Grouping by Month and VisitorType and counting the occurrences\n",
    "month_visitor_counts = online.groupBy('Month', 'VisitorType').count().orderBy('Month', 'VisitorType')\n",
    "\n",
    "# Converting Spark DataFrame to Pandas DataFrame for visualization\n",
    "month_visitor_counts_pandas = month_visitor_counts.toPandas()\n",
    "\n",
    "# Plotting bar chart for Month and VisitorType\n",
    "plt.figure(figsize=(12, 6))\n",
    "for month, data in month_visitor_counts_pandas.groupby('Month'):\n",
    "    plt.bar(data['VisitorType'], data['count'], label=month)\n",
    "\n",
    "plt.xlabel('VisitorType')\n",
    "plt.ylabel('Count')\n",
    "plt.title('VisitorType Distribution Across Months')\n",
    "plt.legend(title='Month')\n",
    "plt.xticks(rotation=45)\n",
    "plt.show()\n"
   ]
  },
  {
   "cell_type": "markdown",
   "metadata": {},
   "source": [
    "The chart clearly indicates that the count of returning visitors exceeds that of new visitors, with particularly notable numbers for returning visitors in November, reaching 2000."
   ]
  },
  {
   "cell_type": "markdown",
   "metadata": {},
   "source": [
    "### 3.4 Exploring the Interaction between Visitor Types and Weekends"
   ]
  },
  {
   "cell_type": "code",
   "execution_count": 270,
   "metadata": {},
   "outputs": [
    {
     "data": {
      "text/plain": [
       "<Figure size 1440x720 with 0 Axes>"
      ]
     },
     "metadata": {},
     "output_type": "display_data"
    },
    {
     "data": {
      "image/png": "[encoded data removed]",
      "text/plain": [
       "<Figure size 432x288 with 1 Axes>"
      ]
     },
     "metadata": {
      "needs_background": "light"
     },
     "output_type": "display_data"
    }
   ],
   "source": [
    "import matplotlib.pyplot as plt\n",
    "\n",
    "# Group by VisitorType and Weekend and count occurrences\n",
    "visitor_weekend_counts = online.groupBy('VisitorType', 'Weekend').count().orderBy('VisitorType', 'Weekend')\n",
    "\n",
    "# Convert Spark DataFrame to Pandas DataFrame for visualization\n",
    "visitor_weekend_counts_pandas = visitor_weekend_counts.toPandas()\n",
    "\n",
    "# Plot grouped bar chart with larger figure size\n",
    "plt.figure(figsize=(20, 10))  # Adjust the figsize as needed\n",
    "visitor_weekend_counts_pandas.pivot(\"VisitorType\", \"Weekend\", \"count\").plot(kind=\"bar\", stacked=False)\n",
    "plt.title('VisitorType vs Weekend Interaction')\n",
    "plt.xlabel('VisitorType')\n",
    "plt.ylabel('Count')\n",
    "plt.xticks(rotation=0)  # Rotate x-axis labels for better readability\n",
    "plt.legend(title='Weekend', bbox_to_anchor=(1.05, 1), loc='upper left')\n",
    "plt.show()\n"
   ]
  },
  {
   "cell_type": "markdown",
   "metadata": {},
   "source": [
    "The chart illustrates that 8000 visitors return on weekdays, while only 2000 visitors return on weekends. Additionally, there are approximately 1000 new visitors on weekdays and 500 new visitors on weekends. This suggests that the majority of visitors tend to visit on weekdays."
   ]
  },
  {
   "cell_type": "markdown",
   "metadata": {},
   "source": [
    "### 3.5 Heatmap for Revenue Distribution Across Months"
   ]
  },
  {
   "cell_type": "code",
   "execution_count": 271,
   "metadata": {},
   "outputs": [
    {
     "data": {
      "image/png": "[encoded data removed]",
      "text/plain": [
       "<Figure size 720x432 with 2 Axes>"
      ]
     },
     "metadata": {
      "needs_background": "light"
     },
     "output_type": "display_data"
    }
   ],
   "source": [
    "import seaborn as sns\n",
    "import matplotlib.pyplot as plt\n",
    "\n",
    "# Pivot the data to have Month as rows, Revenue as columns, and count as values\n",
    "heatmap_data = month_revenue_counts_pandas.pivot(\"Month\", \"Revenue\", \"count\").fillna(0)\n",
    "\n",
    "# Plot heatmap using Seaborn\n",
    "plt.figure(figsize=(10, 6))\n",
    "sns.heatmap(heatmap_data, annot=True, fmt=\"d\", cmap=\"YlGnBu\")\n",
    "plt.title('Revenue Distribution Across Months')\n",
    "plt.xlabel('Revenue')\n",
    "plt.ylabel('Month')\n",
    "plt.show()\n",
    "\n",
    "\n"
   ]
  },
  {
   "cell_type": "markdown",
   "metadata": {},
   "source": [
    "Heatmap illustrates that the highest revenue was generated in the month of November."
   ]
  },
  {
   "cell_type": "markdown",
   "metadata": {},
   "source": [
    "## 4. ML Modelling:"
   ]
  },
  {
   "cell_type": "markdown",
   "metadata": {},
   "source": [
    "### So, the first step is splitting the dataset into train (70%) and test (30%)."
   ]
  },
  {
   "cell_type": "code",
   "execution_count": 275,
   "metadata": {},
   "outputs": [
    {
     "name": "stdout",
     "output_type": "stream",
     "text": [
      "Number of rows in training set: 8582\n",
      "Number of rows in testing set: 3748\n"
     ]
    }
   ],
   "source": [
    "# Specify the ratio for splitting the data\n",
    "train_ratio = 0.7\n",
    "test_ratio = 1 - train_ratio\n",
    "\n",
    "# Split the dataset into training and testing sets\n",
    "train_online, test_online = online_data.randomSplit([train_ratio, test_ratio], seed=123)\n",
    "\n",
    "# Show the number of rows in each set\n",
    "print(\"Number of rows in training set:\", train_online.count())\n",
    "print(\"Number of rows in testing set:\", test_online.count())\n"
   ]
  },
  {
   "cell_type": "markdown",
   "metadata": {},
   "source": [
    "### Now, we are utilizing the Vector Assembler, which transforms the data into a format where all the features are combined into a single vector, while keeping the target variable separate."
   ]
  },
  {
   "cell_type": "code",
   "execution_count": 276,
   "metadata": {},
   "outputs": [
    {
     "name": "stdout",
     "output_type": "stream",
     "text": [
      "+------------------------------------------------------------------------------+-----------+\n",
      "|features                                                                      |Revenue_int|\n",
      "+------------------------------------------------------------------------------+-----------+\n",
      "|(26,[6,7,10,11,12,13,22,23,25],[0.18,0.181818182,2.0,2.0,7.0,6.0,1.0,1.0,1.0])|0.0        |\n",
      "|(26,[6,7,10,11,12,13,14,23,25],[0.2,0.2,2.0,2.0,8.0,3.0,1.0,1.0,1.0])         |0.0        |\n",
      "|(26,[6,7,10,11,12,13,14,23],[0.2,0.2,3.0,2.0,3.0,18.0,1.0,1.0])               |0.0        |\n",
      "|(26,[4,7,10,11,12,13,16,23,25],[1.0,0.1,2.0,2.0,2.0,6.0,1.0,1.0,1.0])         |0.0        |\n",
      "|(26,[4,7,10,11,12,13,14,23],[1.0,0.1,2.0,2.0,3.0,18.0,1.0,1.0])               |0.0        |\n",
      "+------------------------------------------------------------------------------+-----------+\n",
      "only showing top 5 rows\n",
      "\n"
     ]
    }
   ],
   "source": [
    "from pyspark.ml.feature import VectorAssembler\n",
    "\n",
    "# Define the columns to assemble\n",
    "feature_columns = ['Administrative', 'Administrative_Duration', 'Informational', \n",
    "                   'Informational_Duration', 'ProductRelated', 'ProductRelated_Duration', \n",
    "                   'BounceRates', 'ExitRates', 'PageValues', 'SpecialDay', \n",
    "                   'OperatingSystems', 'Browser', 'Region', 'TrafficType', \n",
    "                   'Month_encoded', 'VisitorType_encoded', 'Weekend_encoded']\n",
    "\n",
    "# Define VectorAssembler\n",
    "assembler = VectorAssembler(inputCols=feature_columns, outputCol=\"features\")\n",
    "\n",
    "# Assemble the features\n",
    "X_train_transformed = assembler.transform(train_online)\n",
    "\n",
    "# Show sample of assembled features\n",
    "X_train_transformed.select(\"features\",\"Revenue_int\").show(5, truncate=False)"
   ]
  },
  {
   "cell_type": "markdown",
   "metadata": {},
   "source": [
    "### Applying the Vector Assembler on test set:"
   ]
  },
  {
   "cell_type": "code",
   "execution_count": 277,
   "metadata": {},
   "outputs": [
    {
     "name": "stdout",
     "output_type": "stream",
     "text": [
      "+---------------------------------------------------------------------+-----------+\n",
      "|features                                                             |Revenue_int|\n",
      "+---------------------------------------------------------------------+-----------+\n",
      "|(26,[6,7,10,11,12,13,15,23,25],[0.2,0.2,1.0,1.0,8.0,8.0,1.0,1.0,1.0])|0.0        |\n",
      "|(26,[6,7,10,11,12,13,15,23,25],[0.2,0.2,1.0,1.0,9.0,2.0,1.0,1.0,1.0])|0.0        |\n",
      "|(26,[6,7,10,11,12,13,15,23,25],[0.2,0.2,1.0,1.0,9.0,3.0,1.0,1.0,1.0])|0.0        |\n",
      "|(26,[4,7,10,11,12,13,15,23,25],[1.0,0.1,2.0,6.0,1.0,3.0,1.0,1.0,1.0])|0.0        |\n",
      "|(26,[4,7,10,11,12,13,21,23,25],[1.0,0.2,1.0,1.0,4.0,4.0,1.0,1.0,1.0])|0.0        |\n",
      "+---------------------------------------------------------------------+-----------+\n",
      "only showing top 5 rows\n",
      "\n"
     ]
    }
   ],
   "source": [
    "X_test_transformed = assembler.transform(test_online)\n",
    "\n",
    "X_test_transformed.select(\"features\",\"Revenue_int\").show(5, truncate=False)\n"
   ]
  },
  {
   "cell_type": "markdown",
   "metadata": {},
   "source": [
    "## Classification Models"
   ]
  },
  {
   "cell_type": "markdown",
   "metadata": {},
   "source": [
    "### 4.1 Random Forest Model:"
   ]
  },
  {
   "cell_type": "markdown",
   "metadata": {},
   "source": [
    "We performed a grid search with a Random Forest classifier using varying numbers of trees (10, 20, 30) and depths (5, 10, 15) to optimize revenue prediction. Additionally, we employed 3-fold cross-validation to train and assess the model's performance."
   ]
  },
  {
   "cell_type": "code",
   "execution_count": 293,
   "metadata": {},
   "outputs": [
    {
     "name": "stdout",
     "output_type": "stream",
     "text": [
      "Random Forest Model\n",
      "Accuracy: 0.9023479188900747\n",
      "F1 Score: 0.7762014861541752\n",
      "Precision: 0.8970290904399598\n"
     ]
    },
    {
     "data": {
      "image/png": "[encoded data removed]",
      "text/plain": [
       "<Figure size 576x432 with 2 Axes>"
      ]
     },
     "metadata": {
      "needs_background": "light"
     },
     "output_type": "display_data"
    }
   ],
   "source": [
    "from pyspark.ml.classification import RandomForestClassifier\n",
    "from pyspark.ml.evaluation import MulticlassClassificationEvaluator, BinaryClassificationEvaluator\n",
    "from pyspark.ml.tuning import CrossValidator, ParamGridBuilder\n",
    "from pyspark.mllib.evaluation import MulticlassMetrics\n",
    "from pyspark.sql.functions import col\n",
    "import matplotlib.pyplot as plt\n",
    "import seaborn as sns\n",
    "\n",
    "\n",
    "# Define Random Forest classifier\n",
    "rf = RandomForestClassifier(featuresCol=\"features\", labelCol=\"Revenue_int\")\n",
    "\n",
    "# Define parameter grid for grid search\n",
    "paramGrid = ParamGridBuilder() \\\n",
    "    .addGrid(rf.numTrees, [10, 20, 30]) \\\n",
    "    .addGrid(rf.maxDepth, [5, 10, 15]) \\\n",
    "    .build()\n",
    "\n",
    "# Define evaluator\n",
    "evaluator = MulticlassClassificationEvaluator(labelCol=\"Revenue_int\", predictionCol=\"prediction\", metricName=\"accuracy\")\n",
    "\n",
    "# Define cross-validator\n",
    "crossval = CrossValidator(estimator=rf,\n",
    "                          estimatorParamMaps=paramGrid,\n",
    "                          evaluator=evaluator,\n",
    "                          numFolds=3)  # Use 3 folds for cross-validation\n",
    "\n",
    "# Train model\n",
    "cvModel = crossval.fit(X_train_transformed)\n",
    "\n",
    "# Make predictions on test set\n",
    "predictions = cvModel.transform(X_test_transformed)\n",
    "\n",
    "print(\"Random Forest Model\")\n",
    "\n",
    "\n",
    "# Calculate accuracy\n",
    "accuracy = evaluator.evaluate(predictions)\n",
    "print(\"Accuracy:\", accuracy)\n",
    "\n",
    "# Define BinaryClassificationEvaluator for F1 score\n",
    "evaluator_f1 = BinaryClassificationEvaluator(labelCol=\"Revenue_int\", rawPredictionCol=\"prediction\", metricName=\"areaUnderROC\")\n",
    "\n",
    "# Calculate F1 score\n",
    "f1_score = evaluator_f1.evaluate(predictions)\n",
    "print(\"F1 Score:\", f1_score)\n",
    "\n",
    "# Define MulticlassClassificationEvaluator for classification report\n",
    "evaluator_report = MulticlassClassificationEvaluator(labelCol=\"Revenue_int\", predictionCol=\"prediction\", metricName=\"weightedPrecision\")\n",
    "\n",
    "# Calculate precision\n",
    "precision = evaluator_report.evaluate(predictions)\n",
    "print(\"Precision:\", precision)\n",
    "\n",
    "# Cast Revenue_int to DoubleType\n",
    "predictions = predictions.withColumn(\"Revenue_int\", col(\"Revenue_int\").cast(\"double\"))\n",
    "\n",
    "# Calculate confusion matrix\n",
    "predictionAndLabels = predictions.select(\"prediction\", \"Revenue_int\").rdd\n",
    "metrics = MulticlassMetrics(predictionAndLabels)\n",
    "\n",
    "# Convert the confusion matrix to a numpy array\n",
    "conf_matrix = metrics.confusionMatrix().toArray()\n",
    "\n",
    "# Create a heatmap\n",
    "plt.figure(figsize=(8, 6))\n",
    "sns.heatmap(conf_matrix, annot=True, cmap=\"YlOrRd\", fmt=\"g\")\n",
    "\n",
    "# Set labels, title, and display the heatmap\n",
    "plt.xlabel(\"Predicted Label\")\n",
    "plt.ylabel(\"True Label\")\n",
    "plt.title(\"Confusion Matrix\")\n",
    "plt.show()\n"
   ]
  },
  {
   "cell_type": "markdown",
   "metadata": {},
   "source": [
    "The F1 score of 0.776 indicates a moderately good balance between precision and recall for the Random Forest model."
   ]
  },
  {
   "cell_type": "markdown",
   "metadata": {},
   "source": [
    "### 4.2 Decision Tree Model:"
   ]
  },
  {
   "cell_type": "markdown",
   "metadata": {},
   "source": [
    "We are performing Decision Tree classification using PySpark ML, evaluated its performance metrics including accuracy, F1 score, and precision, and visualized the confusion matrix using Matplotlib and Seaborn."
   ]
  },
  {
   "cell_type": "code",
   "execution_count": 279,
   "metadata": {},
   "outputs": [
    {
     "name": "stdout",
     "output_type": "stream",
     "text": [
      "Decision Tree Model\n",
      "Accuracy: 0.9020811099252934\n",
      "F1 Score: 0.7804213888591897\n",
      "Precision: 0.897362826118794\n"
     ]
    },
    {
     "data": {
      "image/png": "[encoded data removed]",
      "text/plain": [
       "<Figure size 576x432 with 2 Axes>"
      ]
     },
     "metadata": {
      "needs_background": "light"
     },
     "output_type": "display_data"
    }
   ],
   "source": [
    "from pyspark.ml.classification import DecisionTreeClassifier\n",
    "from pyspark.ml.evaluation import MulticlassClassificationEvaluator, BinaryClassificationEvaluator\n",
    "from pyspark.mllib.evaluation import MulticlassMetrics\n",
    "\n",
    "# Define Decision Tree classifier\n",
    "dt = DecisionTreeClassifier(featuresCol=\"features\", labelCol=\"Revenue_int\")\n",
    "\n",
    "# Train the model\n",
    "model = dt.fit(X_train_transformed)\n",
    "\n",
    "# Make predictions on the test set\n",
    "predictions = model.transform(X_test_transformed)\n",
    "\n",
    "# Define MulticlassClassificationEvaluator for accuracy\n",
    "evaluator_accuracy = MulticlassClassificationEvaluator(labelCol=\"Revenue_int\", predictionCol=\"prediction\", metricName=\"accuracy\")\n",
    "\n",
    "print(\"Decision Tree Model\")\n",
    "\n",
    "\n",
    "# Calculate accuracy\n",
    "accuracy = evaluator_accuracy.evaluate(predictions)\n",
    "print(\"Accuracy:\", accuracy)\n",
    "\n",
    "# Define BinaryClassificationEvaluator for F1 score\n",
    "evaluator_f1 = BinaryClassificationEvaluator(labelCol=\"Revenue_int\", rawPredictionCol=\"prediction\", metricName=\"areaUnderROC\")\n",
    "\n",
    "# Calculate F1 score\n",
    "f1_score = evaluator_f1.evaluate(predictions)\n",
    "print(\"F1 Score:\", f1_score)\n",
    "\n",
    "# Define MulticlassClassificationEvaluator for classification report\n",
    "evaluator_report = MulticlassClassificationEvaluator(labelCol=\"Revenue_int\", predictionCol=\"prediction\", metricName=\"weightedPrecision\")\n",
    "\n",
    "# Calculate precision\n",
    "precision = evaluator_report.evaluate(predictions)\n",
    "print(\"Precision:\", precision)\n",
    "\n",
    "# Cast Revenue_int to DoubleType\n",
    "predictions = predictions.withColumn(\"Revenue_int\", col(\"Revenue_int\").cast(\"double\"))\n",
    "\n",
    "# Calculate confusion matrix\n",
    "predictionAndLabels = predictions.select(\"prediction\", \"Revenue_int\").rdd\n",
    "metrics = MulticlassMetrics(predictionAndLabels)\n",
    "\n",
    "# Convert the confusion matrix to a numpy array\n",
    "conf_matrix = metrics.confusionMatrix().toArray()\n",
    "\n",
    "# Create a heatmap\n",
    "plt.figure(figsize=(8, 6))\n",
    "sns.heatmap(conf_matrix, annot=True, cmap=\"plasma\", fmt=\"g\")\n",
    "\n",
    "# Set labels, title, and display the heatmap\n",
    "plt.xlabel(\"Predicted Label\")\n",
    "plt.ylabel(\"True Label\")\n",
    "plt.title(\"Confusion Matrix\")\n",
    "plt.show()\n"
   ]
  },
  {
   "cell_type": "markdown",
   "metadata": {},
   "source": [
    "The Decision Tree model achieved an F1 score of 0.780, This F1 score is slightly higher than that of the Random Forest model, suggesting that the Decision Tree model may be performing slightly better overall."
   ]
  },
  {
   "cell_type": "markdown",
   "metadata": {},
   "source": [
    "### 4.3 Naive Bayes Model:"
   ]
  },
  {
   "cell_type": "code",
   "execution_count": 280,
   "metadata": {},
   "outputs": [
    {
     "name": "stdout",
     "output_type": "stream",
     "text": [
      "Naive Bayes Model\n",
      "Accuracy: 0.8676627534685165\n",
      "F1 Score: 0.8705436685550024\n",
      "Precision: 0.8740939868240034\n"
     ]
    },
    {
     "data": {
      "image/png": "[encoded data removed]",
      "text/plain": [
       "<Figure size 576x432 with 2 Axes>"
      ]
     },
     "metadata": {
      "needs_background": "light"
     },
     "output_type": "display_data"
    }
   ],
   "source": [
    "from pyspark.ml.classification import NaiveBayes\n",
    "from pyspark.ml.evaluation import MulticlassClassificationEvaluator\n",
    "from pyspark.mllib.evaluation import MulticlassMetrics\n",
    "\n",
    "# Define Naive Bayes classifier\n",
    "nb = NaiveBayes(featuresCol=\"features\", labelCol=\"Revenue_int\")\n",
    "\n",
    "# Train the model\n",
    "model = nb.fit(X_train_transformed)\n",
    "\n",
    "# Make predictions on the test set\n",
    "predictions = model.transform(X_test_transformed)\n",
    "\n",
    "# Define MulticlassClassificationEvaluator for accuracy\n",
    "evaluator_accuracy = MulticlassClassificationEvaluator(labelCol=\"Revenue_int\", predictionCol=\"prediction\", metricName=\"accuracy\")\n",
    "\n",
    "print(\"Naive Bayes Model\")\n",
    "\n",
    "\n",
    "# Calculate accuracy\n",
    "accuracy = evaluator_accuracy.evaluate(predictions)\n",
    "print(\"Accuracy:\", accuracy)\n",
    "\n",
    "# Define MulticlassClassificationEvaluator for F1 score\n",
    "evaluator_f1 = MulticlassClassificationEvaluator(labelCol=\"Revenue_int\", predictionCol=\"prediction\", metricName=\"f1\")\n",
    "\n",
    "# Calculate F1 score\n",
    "f1_score = evaluator_f1.evaluate(predictions)\n",
    "print(\"F1 Score:\", f1_score)\n",
    "\n",
    "# Define MulticlassClassificationEvaluator for precision\n",
    "evaluator_precision = MulticlassClassificationEvaluator(labelCol=\"Revenue_int\", predictionCol=\"prediction\", metricName=\"weightedPrecision\")\n",
    "\n",
    "# Calculate precision\n",
    "precision = evaluator_precision.evaluate(predictions)\n",
    "print(\"Precision:\", precision)\n",
    "\n",
    "# Cast Revenue_int to DoubleType\n",
    "predictions = predictions.withColumn(\"Revenue_int\", col(\"Revenue_int\").cast(\"double\"))\n",
    "\n",
    "# Calculate confusion matrix\n",
    "predictionAndLabels = predictions.select(\"prediction\", \"Revenue_int\").rdd\n",
    "metrics = MulticlassMetrics(predictionAndLabels)\n",
    "\n",
    "# Convert the confusion matrix to a numpy array\n",
    "conf_matrix = metrics.confusionMatrix().toArray()\n",
    "\n",
    "# Create a heatmap\n",
    "plt.figure(figsize=(8, 6))\n",
    "sns.heatmap(conf_matrix, annot=True, cmap=\"prism\", fmt=\"g\")\n",
    "\n",
    "# Set labels, title, and display the heatmap\n",
    "plt.xlabel(\"Predicted Label\")\n",
    "plt.ylabel(\"True Label\")\n",
    "plt.title(\"Confusion Matrix\")\n",
    "plt.show()\n"
   ]
  },
  {
   "cell_type": "markdown",
   "metadata": {},
   "source": [
    "The Naive Bayes model achieved an impressive F1 score of 0.871, which is notably higher than the F1 scores of both the Random Forest and Decision Tree models. Naive Bayes classifiers are known for their simplicity and efficiency in handling large datasets with high-dimensional feature spaces"
   ]
  },
  {
   "cell_type": "markdown",
   "metadata": {},
   "source": [
    "### 4.4 Support Vector Machines:"
   ]
  },
  {
   "cell_type": "markdown",
   "metadata": {},
   "source": [
    "We're training the Linear Support Vector Machines (SVM) classifier on the training data and evaluating its performance on the test set to assess its accuracy, F1 score, and precision."
   ]
  },
  {
   "cell_type": "code",
   "execution_count": 292,
   "metadata": {},
   "outputs": [
    {
     "name": "stdout",
     "output_type": "stream",
     "text": [
      "Support Vector Machines\n",
      "Accuracy: 0.887940234791889\n",
      "F1 Score: 0.8725874635412649\n",
      "Precision: 0.8767585861485138\n"
     ]
    },
    {
     "data": {
      "image/png": "[encoded data removed]",
      "text/plain": [
       "<Figure size 576x432 with 2 Axes>"
      ]
     },
     "metadata": {
      "needs_background": "light"
     },
     "output_type": "display_data"
    }
   ],
   "source": [
    "from pyspark.ml.classification import LinearSVC\n",
    "from pyspark.ml.evaluation import MulticlassClassificationEvaluator\n",
    "from pyspark.mllib.evaluation import MulticlassMetrics\n",
    "import matplotlib.pyplot as plt\n",
    "import seaborn as sns\n",
    "\n",
    "# Define Linear SVM classifier\n",
    "svm = LinearSVC(featuresCol=\"features\", labelCol=\"Revenue_int\", maxIter=10)\n",
    "\n",
    "# Train the model\n",
    "model = svm.fit(X_train_transformed)\n",
    "\n",
    "# Make predictions on the test set\n",
    "predictions = model.transform(X_test_transformed)\n",
    "\n",
    "# Define MulticlassClassificationEvaluator for accuracy\n",
    "evaluator_accuracy = MulticlassClassificationEvaluator(labelCol=\"Revenue_int\", predictionCol=\"prediction\", metricName=\"accuracy\")\n",
    "\n",
    "print(\"Support Vector Machines\")\n",
    "\n",
    "\n",
    "# Calculate accuracy\n",
    "accuracy = evaluator_accuracy.evaluate(predictions)\n",
    "print(\"Accuracy:\", accuracy)\n",
    "\n",
    "# Define BinaryClassificationEvaluator for F1 score\n",
    "evaluator_f1 = MulticlassClassificationEvaluator(labelCol=\"Revenue_int\", predictionCol=\"prediction\", metricName=\"f1\")\n",
    "\n",
    "# Calculate F1 score\n",
    "f1_score = evaluator_f1.evaluate(predictions)\n",
    "print(\"F1 Score:\", f1_score)\n",
    "\n",
    "# Define MulticlassClassificationEvaluator for classification report\n",
    "evaluator_report = MulticlassClassificationEvaluator(labelCol=\"Revenue_int\", predictionCol=\"prediction\", metricName=\"weightedPrecision\")\n",
    "\n",
    "# Calculate precision\n",
    "precision = evaluator_report.evaluate(predictions)\n",
    "print(\"Precision:\", precision)\n",
    "\n",
    "# Cast Revenue_int to DoubleType\n",
    "predictions = predictions.withColumn(\"Revenue_int\", col(\"Revenue_int\").cast(\"double\"))\n",
    "\n",
    "# Calculate confusion matrix\n",
    "predictionAndLabels = predictions.select(\"prediction\", \"Revenue_int\").rdd\n",
    "metrics = MulticlassMetrics(predictionAndLabels)\n",
    "\n",
    "# Convert the confusion matrix to a numpy array\n",
    "conf_matrix = metrics.confusionMatrix().toArray()\n",
    "\n",
    "# Create a heatmap\n",
    "plt.figure(figsize=(8, 6))\n",
    "sns.heatmap(conf_matrix, annot=True, cmap=\"pink\", fmt=\"g\")\n",
    "\n",
    "# Set labels, title, and display the heatmap\n",
    "plt.xlabel(\"Predicted Label\")\n",
    "plt.ylabel(\"True Label\")\n",
    "plt.title(\"Confusion Matrix\")\n",
    "plt.show()\n"
   ]
  },
  {
   "cell_type": "markdown",
   "metadata": {},
   "source": [
    "SVM achieves a high F1 Score, which suggests that it performs well in predicting the target variable (revenue) from the test set compared to the other models discussed earlier."
   ]
  },
  {
   "cell_type": "markdown",
   "metadata": {},
   "source": [
    "### 4.5 Linear Regression:"
   ]
  },
  {
   "cell_type": "markdown",
   "metadata": {},
   "source": [
    "We are utilizing Logistic Regression, a popular algorithm for binary classification, to model the relationship between the independent variables and the binary outcome."
   ]
  },
  {
   "cell_type": "code",
   "execution_count": 282,
   "metadata": {},
   "outputs": [
    {
     "name": "stdout",
     "output_type": "stream",
     "text": [
      "Logistic Regression\n",
      "Accuracy: 0.8874066168623266\n",
      "F1 Score: 0.873354694245517\n",
      "Precision: 0.87568359194872\n"
     ]
    },
    {
     "data": {
      "image/png": "[encoded data removed]",
      "text/plain": [
       "<Figure size 576x432 with 2 Axes>"
      ]
     },
     "metadata": {
      "needs_background": "light"
     },
     "output_type": "display_data"
    }
   ],
   "source": [
    "from pyspark.ml.classification import LogisticRegression\n",
    "from pyspark.ml.evaluation import MulticlassClassificationEvaluator\n",
    "from pyspark.mllib.evaluation import MulticlassMetrics\n",
    "import matplotlib.pyplot as plt\n",
    "import seaborn as sns\n",
    "\n",
    "# Define Logistic Regression classifier\n",
    "lr = LogisticRegression(featuresCol=\"features\", labelCol=\"Revenue_int\", maxIter=10)\n",
    "\n",
    "# Train the model\n",
    "model = lr.fit(X_train_transformed)\n",
    "\n",
    "# Make predictions on the test set\n",
    "predictions = model.transform(X_test_transformed)\n",
    "\n",
    "# Define MulticlassClassificationEvaluator for accuracy\n",
    "evaluator_accuracy = MulticlassClassificationEvaluator(labelCol=\"Revenue_int\", predictionCol=\"prediction\", metricName=\"accuracy\")\n",
    "\n",
    "print(\"Logistic Regression\")\n",
    "\n",
    "# Calculate accuracy\n",
    "accuracy = evaluator_accuracy.evaluate(predictions)\n",
    "print(\"Accuracy:\", accuracy)\n",
    "\n",
    "# Define BinaryClassificationEvaluator for F1 score\n",
    "evaluator_f1 = MulticlassClassificationEvaluator(labelCol=\"Revenue_int\", predictionCol=\"prediction\", metricName=\"f1\")\n",
    "\n",
    "# Calculate F1 score\n",
    "f1_score = evaluator_f1.evaluate(predictions)\n",
    "print(\"F1 Score:\", f1_score)\n",
    "\n",
    "# Define MulticlassClassificationEvaluator for classification report\n",
    "evaluator_report = MulticlassClassificationEvaluator(labelCol=\"Revenue_int\", predictionCol=\"prediction\", metricName=\"weightedPrecision\")\n",
    "\n",
    "# Calculate precision\n",
    "precision = evaluator_report.evaluate(predictions)\n",
    "print(\"Precision:\", precision)\n",
    "\n",
    "# Cast Revenue_int to DoubleType\n",
    "predictions = predictions.withColumn(\"Revenue_int\", col(\"Revenue_int\").cast(\"double\"))\n",
    "\n",
    "# Calculate confusion matrix\n",
    "predictionAndLabels = predictions.select(\"prediction\", \"Revenue_int\").rdd\n",
    "metrics = MulticlassMetrics(predictionAndLabels)\n",
    "\n",
    "# Convert the confusion matrix to a numpy array\n",
    "conf_matrix = metrics.confusionMatrix().toArray()\n",
    "\n",
    "# Create a heatmap\n",
    "plt.figure(figsize=(8, 6))\n",
    "sns.heatmap(conf_matrix, annot=True, cmap=\"Greens\", fmt=\"g\")\n",
    "\n",
    "# Set labels, title, and display the heatmap\n",
    "plt.xlabel(\"Predicted Label\")\n",
    "plt.ylabel(\"True Label\")\n",
    "plt.title(\"Confusion Matrix\")\n",
    "plt.show()\n"
   ]
  },
  {
   "cell_type": "markdown",
   "metadata": {},
   "source": [
    "Logistic Regression demonstrates the highest F1 score among the models, indicating its effectiveness in correctly predicting true positives while minimizing false positives and false negatives."
   ]
  },
  {
   "cell_type": "markdown",
   "metadata": {},
   "source": [
    "### 4.6 Neural Network Model(MLP):"
   ]
  },
  {
   "cell_type": "markdown",
   "metadata": {},
   "source": [
    "\n",
    "We are training a Multilayer Perceptron (MLP) classifier for predicting revenue categories using Spark ML, then evaluates its accuracy, F1-score, precision, and visualizes the confusion matrix.\n"
   ]
  },
  {
   "cell_type": "code",
   "execution_count": 283,
   "metadata": {},
   "outputs": [
    {
     "name": "stdout",
     "output_type": "stream",
     "text": [
      "Multilayer Perceptron Model\n",
      "Accuracy: 0.8596584845250801\n",
      "F1 Score: 0.839643738832266\n",
      "Precision: 0.8361124050249527\n"
     ]
    },
    {
     "data": {
      "image/png": "[encoded data removed]",
      "text/plain": [
       "<Figure size 576x432 with 2 Axes>"
      ]
     },
     "metadata": {
      "needs_background": "light"
     },
     "output_type": "display_data"
    }
   ],
   "source": [
    "from pyspark.ml.classification import MultilayerPerceptronClassifier\n",
    "from pyspark.ml.evaluation import MulticlassClassificationEvaluator\n",
    "from pyspark.sql.functions import col\n",
    "import matplotlib.pyplot as plt\n",
    "import seaborn as sns\n",
    "from pyspark.mllib.evaluation import MulticlassMetrics\n",
    "\n",
    "# Assuming you have already prepared your data and have X_train_transformed, X_test_transformed DataFrames\n",
    "\n",
    "# Get the size of features\n",
    "num_features = len(X_train_transformed.select(\"features\").first()[\"features\"])\n",
    "\n",
    "# Define Multilayer Perceptron classifier\n",
    "layers = [num_features, 10, 5, 2]  # Define the layers of the neural network\n",
    "mlp = MultilayerPerceptronClassifier(featuresCol=\"features\", labelCol=\"Revenue_int\", layers=layers, seed=1234)\n",
    "\n",
    "# Train the model\n",
    "model = mlp.fit(X_train_transformed)\n",
    "\n",
    "# Make predictions on the test set\n",
    "predictions = model.transform(X_test_transformed)\n",
    "\n",
    "# Define MulticlassClassificationEvaluator for accuracy\n",
    "evaluator_accuracy = MulticlassClassificationEvaluator(labelCol=\"Revenue_int\", predictionCol=\"prediction\", metricName=\"accuracy\")\n",
    "\n",
    "print(\"Multilayer Perceptron Model\")\n",
    "\n",
    "# Calculate accuracy\n",
    "accuracy = evaluator_accuracy.evaluate(predictions)\n",
    "print(\"Accuracy:\", accuracy)\n",
    "\n",
    "# Define MulticlassClassificationEvaluator for F1 score\n",
    "evaluator_f1 = MulticlassClassificationEvaluator(labelCol=\"Revenue_int\", predictionCol=\"prediction\", metricName=\"f1\")\n",
    "\n",
    "# Calculate F1 score\n",
    "f1_score = evaluator_f1.evaluate(predictions)\n",
    "print(\"F1 Score:\", f1_score)\n",
    "\n",
    "\n",
    "# Define MulticlassClassificationEvaluator for precision\n",
    "evaluator_precision = MulticlassClassificationEvaluator(labelCol=\"Revenue_int\", predictionCol=\"prediction\", metricName=\"weightedPrecision\")\n",
    "\n",
    "# Calculate precision\n",
    "precision = evaluator_precision.evaluate(predictions)\n",
    "print(\"Precision:\", precision)\n",
    "\n",
    "# Cast Revenue_int to DoubleType\n",
    "predictions = predictions.withColumn(\"Revenue_int\", col(\"Revenue_int\").cast(\"double\"))\n",
    "\n",
    "# Calculate confusion matrix\n",
    "predictionAndLabels = predictions.select(\"prediction\", \"Revenue_int\").rdd\n",
    "metrics = MulticlassMetrics(predictionAndLabels)\n",
    "\n",
    "# Convert the confusion matrix to a numpy array\n",
    "conf_matrix = metrics.confusionMatrix().toArray()\n",
    "\n",
    "# Create a heatmap\n",
    "plt.figure(figsize=(8, 6))\n",
    "sns.heatmap(conf_matrix, annot=True, cmap=\"coolwarm\", fmt=\"g\")\n",
    "\n",
    "# Set labels, title, and display the heatmap\n",
    "plt.xlabel(\"Predicted Label\")\n",
    "plt.ylabel(\"True Label\")\n",
    "plt.title(\"Confusion Matrix\")\n",
    "plt.show()\n"
   ]
  },
  {
   "cell_type": "markdown",
   "metadata": {},
   "source": [
    "## 5. Selecting the Best Model:"
   ]
  },
  {
   "cell_type": "code",
   "execution_count": 284,
   "metadata": {},
   "outputs": [
    {
     "name": "stdout",
     "output_type": "stream",
     "text": [
      "Best Model: Logistic Regression\n",
      "Best F1 Score: 0.873354694245517\n"
     ]
    }
   ],
   "source": [
    "f1_scores = {\n",
    "    \"Random Forest\": 0.7762014861541752,\n",
    "    \"Decision Tree\": 0.7804213888591897,\n",
    "    \"Naive Bayes\": 0.8705436685550024,\n",
    "    \"Support Vector Machine\": 0.8725874635412649,\n",
    "    \"Logistic Regression\": 0.873354694245517,\n",
    "    \"Neural Network\": 0.839643738832266\n",
    "}\n",
    "\n",
    "# Find the best model\n",
    "best_model = max(f1_scores, key=f1_scores.get)\n",
    "best_f1_score = f1_scores[best_model]\n",
    "\n",
    "# Print the best model and its F1 score\n",
    "print(\"Best Model:\", best_model)\n",
    "print(\"Best F1 Score:\", best_f1_score)\n"
   ]
  },
  {
   "cell_type": "markdown",
   "metadata": {},
   "source": [
    "Among the six models evaluated, logistic regression stands out as the most effective in accurately determining whether an online visitor will make a purchase or not, given its highest F1 score of 0.87335. This indicates that logistic regression strikes a good balance between precision and recall, making it a reliable choice for classification tasks in this context. Additionally, logistic regression is computationally efficient and interpretable, making it suitable for real-world deployment and providing insights into the factors influencing purchase behavior in online visitors."
   ]
  },
  {
   "cell_type": "markdown",
   "metadata": {},
   "source": [
    "## Component 3: Conclusion"
   ]
  },
  {
   "cell_type": "markdown",
   "metadata": {},
   "source": [
    "In this project, we aimed to construct a predictive model to determine whether an online visitor will make a purchase. We began by conducting exploratory data analysis and preprocessing tasks, such as data cleaning, feature engineering, and categorical variable encoding. Subsequently, we trained and evaluated six classification models: Random Forest, Decision Tree, Naive Bayes, Linear SVM, Logistic Regression, and Multilayer Perceptron. Among these models, Logistic Regression emerged as the top performer, achieving the highest F1 score of 0.87335, indicating its effectiveness in predicting online purchase behavior.\n",
    "\n",
    "<H5>Future Scopes: Enhancing Model Performance and Deployment Opportunities</H5>\n",
    "\n",
    "* Moving forward, to enhance the model's performance, we could explore techniques such as data balancing to address any class imbalance issues and hyperparameter tuning to optimize the model's parameters further. \n",
    "\n",
    "\n",
    "\n",
    "* Experimenting with ensemble methods like stacking or boosting, which combine the predictions of multiple models, could potentially further enhance predictive performance by leveraging the strengths of different algorithms.\n",
    "\n",
    "\n",
    "\n",
    "* Additionally, deploying the best-performing model in a real-world scenario and monitoring its performance over time would provide valuable insights into its practical effectiveness and potential areas for improvement."
   ]
  },
  {
   "cell_type": "markdown",
   "metadata": {},
   "source": [
    "## References :"
   ]
  },
  {
   "cell_type": "markdown",
   "metadata": {},
   "source": [
    "* Big Data Analytics - Lecture and Lab (Topic 6-9) - Dr V L Raju Chinthalapati\n",
    "\n",
    "\n",
    "* http://lnkiy.in/pyspark_tutorial\n",
    "\n",
    "\n",
    "* http://lnkiy.in/Beginners-guide-to-pyspark\n",
    "\n",
    "\n",
    "* http://lnkiy.in/pyspark-example-tutorials"
   ]
  },
  {
   "cell_type": "code",
   "execution_count": null,
   "metadata": {},
   "outputs": [],
   "source": []
  }
 ],
 "metadata": {
  "kernelspec": {
   "display_name": "Python 3 (ipykernel)",
   "language": "python",
   "name": "python3"
  },
  "language_info": {
   "codemirror_mode": {
    "name": "ipython",
    "version": 3
   },
   "file_extension": ".py",
   "mimetype": "text/x-python",
   "name": "python",
   "nbconvert_exporter": "python",
   "pygments_lexer": "ipython3",
   "version": "3.11.5"
  }
 },
 "nbformat": 4,
 "nbformat_minor": 4
}
